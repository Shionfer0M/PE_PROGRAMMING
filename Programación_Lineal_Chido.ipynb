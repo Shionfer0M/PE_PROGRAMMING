{
  "nbformat": 4,
  "nbformat_minor": 0,
  "metadata": {
    "colab": {
      "name": "Programación-Lineal-Chido.ipynb",
      "provenance": [],
      "collapsed_sections": [],
      "include_colab_link": true
    },
    "kernelspec": {
      "name": "python3",
      "display_name": "Python 3"
    }
  },
  "cells": [
    {
      "cell_type": "markdown",
      "metadata": {
        "id": "view-in-github",
        "colab_type": "text"
      },
      "source": [
        "<a href=\"https://colab.research.google.com/github/Shionfer0M/PE_PROGRAMMING/blob/master/Programaci%C3%B3n_Lineal_Chido.ipynb\" target=\"_parent\"><img src=\"https://colab.research.google.com/assets/colab-badge.svg\" alt=\"Open In Colab\"/></a>"
      ]
    },
    {
      "cell_type": "code",
      "metadata": {
        "id": "XPr4djTOtEb9",
        "colab_type": "code",
        "outputId": "441ee9a5-2fb1-4244-85d7-2ad81d9cc01b",
        "colab": {
          "base_uri": "https://localhost:8080/",
          "height": 121
        }
      },
      "source": [
        "!pip install pulp"
      ],
      "execution_count": 0,
      "outputs": [
        {
          "output_type": "stream",
          "text": [
            "Collecting pulp\n",
            "\u001b[?25l  Downloading https://files.pythonhosted.org/packages/41/34/757c88c320f80ce602199603afe63aed1e0bc11180b9a9fb6018fb2ce7ef/PuLP-2.1-py3-none-any.whl (40.6MB)\n",
            "\u001b[K     |████████████████████████████████| 40.6MB 102kB/s \n",
            "\u001b[?25hRequirement already satisfied: pyparsing>=2.0.1 in /usr/local/lib/python3.6/dist-packages (from pulp) (2.4.7)\n",
            "Installing collected packages: pulp\n",
            "Successfully installed pulp-2.1\n"
          ],
          "name": "stdout"
        }
      ]
    },
    {
      "cell_type": "code",
      "metadata": {
        "id": "yWpFWx9hkZ1S",
        "colab_type": "code",
        "colab": {}
      },
      "source": [
        ""
      ],
      "execution_count": 0,
      "outputs": []
    },
    {
      "cell_type": "code",
      "metadata": {
        "id": "th4LYkQ8t4Ub",
        "colab_type": "code",
        "outputId": "b9f322db-fd9c-4423-fc05-9cccd9978ac4",
        "colab": {
          "base_uri": "https://localhost:8080/",
          "height": 34
        }
      },
      "source": [
        "!pip install numpy"
      ],
      "execution_count": 0,
      "outputs": [
        {
          "output_type": "stream",
          "text": [
            "Requirement already satisfied: numpy in /usr/local/lib/python3.6/dist-packages (1.18.4)\n"
          ],
          "name": "stdout"
        }
      ]
    },
    {
      "cell_type": "code",
      "metadata": {
        "id": "WFJzRv_9uHWH",
        "colab_type": "code",
        "outputId": "cad6faae-04cd-4029-df2b-b9060c1dd8cb",
        "colab": {
          "base_uri": "https://localhost:8080/",
          "height": 485
        }
      },
      "source": [
        "import numpy as np\n",
        "from pulp import *\n",
        "#Pidiendo datos para realizar el método\n",
        "num_estadosf = int(input(\"Proporciona el número de estados::\"))\n",
        "num_decisionesf = int(input(\"Proporciona el número de decisiones::\"))\n",
        "edosf = []\n",
        "desisf = []\n",
        "\n",
        "#listando estados | decision | vector de probabilidad\n",
        "\n",
        "vect_auxf = []\n",
        "matriz_prob_por_decisf= np.zeros((1,num_estadosf))\n",
        "print(\"Digita el estado, decision y vector de probabilidad correspondiente.\")\n",
        "optionf = 1\n",
        "iteracionf = 0\n",
        "\n",
        "\n",
        "while optionf  >=1 :\n",
        "\n",
        "  if iteracionf < 1: #Aqui lo utilizo para llenar mientras la matriz solo tiene un solo registro, es decir, \n",
        "  #solo hay un renglón correspondiente a un estado con una desición y este guarda dicho vector de probabilidad.\n",
        "    auxf = int(input(\"Estado.. \"))#pide estado\n",
        "    edosf.append(auxf)\n",
        "\n",
        "    aux1f = int(input(\"Desición tomada.. \"))#pide la decision del estado tomado anteriormente \n",
        "    desisf.append(aux1f)\n",
        "\n",
        "    print(\"vector de probabilidad del estado %d tomada la decisión %d\"%(edosf[iteracionf],desisf[iteracionf])) # Pide el vector correspondiente al estado y decision anteriormente solicitado \n",
        "    for i in range(0,num_estadosf):\n",
        "      auxif = float(input(\" \"))\n",
        "      matriz_prob_por_decisf[0,i] = auxif\n",
        "\n",
        "  else:\n",
        "    auxf = int(input(\"Estado.. \"))\n",
        "    edosf.append(auxf)\n",
        "    aux1f = int(input(\"Desición tomada.. \"))\n",
        "    desisf.append(aux1f)\n",
        "    print(\"vector de probabilidad del estado %d tomada la decisión %d\"%(edosf[iteracionf],desisf[iteracionf]))\n",
        "    for i in range(num_estadosf):\n",
        "      aux3f = float(input(\" \"))\n",
        "      vect_auxf.append(aux3f)\n",
        "\n",
        "    matriz_prob_por_decisf = np.vstack([matriz_prob_por_decisf, vect_auxf])\n",
        "    vect_auxf.clear()\n",
        "\n",
        "  optionf = int(input(\"Dar otra asignación?? SI= 1 | NO = 0\"))\n",
        "  iteracionf +=1"
      ],
      "execution_count": 0,
      "outputs": [
        {
          "output_type": "stream",
          "text": [
            "Proporciona el número de estados::2\n",
            "Proporciona el número de decisiones::2\n",
            "Digita el estado, decision y vector de probabilidad correspondiente.\n",
            "Estado.. 0\n",
            "Desición tomada.. 1\n",
            "vector de probabilidad del estado 0 tomada la decisión 1\n",
            " 0.4\n",
            " 0.6\n",
            "Dar otra asignación?? SI= 1 | NO = 01\n",
            "Estado.. 1\n",
            "Desición tomada.. 1\n",
            "vector de probabilidad del estado 1 tomada la decisión 1\n",
            " 0.6\n",
            " 0.4\n",
            "Dar otra asignación?? SI= 1 | NO = 01\n",
            "Estado.. 0\n",
            "Desición tomada.. 2\n",
            "vector de probabilidad del estado 0 tomada la decisión 2\n",
            " 0.6\n",
            " 0.4\n",
            "Dar otra asignación?? SI= 1 | NO = 01\n",
            "Estado.. 1\n",
            "Desición tomada.. 2\n",
            "vector de probabilidad del estado 1 tomada la decisión 2\n",
            " 0.5\n",
            " 0.5\n",
            "Dar otra asignación?? SI= 1 | NO = 00\n"
          ],
          "name": "stdout"
        }
      ]
    },
    {
      "cell_type": "code",
      "metadata": {
        "id": "lFJw8ZjFwd9H",
        "colab_type": "code",
        "outputId": "862191d7-b18a-42de-ef61-7a82cba9747e",
        "colab": {
          "base_uri": "https://localhost:8080/",
          "height": 86
        }
      },
      "source": [
        "costosf = []\n",
        "for f in range(0,iteracionf):\n",
        "  aux_costosf = float(input(\"Costo de EDO %d  --> DEC %d ... \"%(edosf[f],desisf[f])))\n",
        "  costosf.append(aux_costosf)"
      ],
      "execution_count": 0,
      "outputs": [
        {
          "output_type": "stream",
          "text": [
            "Costo de EDO 0  --> DEC 1 ... 1200\n",
            "Costo de EDO 1  --> DEC 1 ... 0\n",
            "Costo de EDO 0  --> DEC 2 ... 1200\n",
            "Costo de EDO 1  --> DEC 2 ... 0\n"
          ],
          "name": "stdout"
        }
      ]
    },
    {
      "cell_type": "code",
      "metadata": {
        "id": "HjexdF-DwzZG",
        "colab_type": "code",
        "outputId": "e4329d87-0adf-46f1-b071-378ed751ef11",
        "colab": {
          "base_uri": "https://localhost:8080/",
          "height": 86
        }
      },
      "source": [
        "matriz_prob_por_decisf"
      ],
      "execution_count": 0,
      "outputs": [
        {
          "output_type": "execute_result",
          "data": {
            "text/plain": [
              "array([[0.4, 0.6],\n",
              "       [0.6, 0.4],\n",
              "       [0.6, 0.4],\n",
              "       [0.5, 0.5]])"
            ]
          },
          "metadata": {
            "tags": []
          },
          "execution_count": 6
        }
      ]
    },
    {
      "cell_type": "code",
      "metadata": {
        "id": "BcqqzxMgw5Dt",
        "colab_type": "code",
        "outputId": "df2e17f7-b078-4a2e-b886-c31141c2f149",
        "colab": {
          "base_uri": "https://localhost:8080/",
          "height": 86
        }
      },
      "source": [
        "#IMPRIMIENDO COMPILACION DE DATOS DE ESTADOS | DECISION TOMADA | VECTOR DE PROB ASOCIOADO\n",
        "for i in range(0,len(edosf)):\n",
        "  print(\"ESTADO %d   -> DECISION %d   | vector de probabilidad \"%(edosf[i],desisf[i]),matriz_prob_por_decisf[i,:])"
      ],
      "execution_count": 0,
      "outputs": [
        {
          "output_type": "stream",
          "text": [
            "ESTADO 0   -> DECISION 1   | vector de probabilidad  [0.4 0.6]\n",
            "ESTADO 1   -> DECISION 1   | vector de probabilidad  [0.6 0.4]\n",
            "ESTADO 0   -> DECISION 2   | vector de probabilidad  [0.6 0.4]\n",
            "ESTADO 1   -> DECISION 2   | vector de probabilidad  [0.5 0.5]\n"
          ],
          "name": "stdout"
        }
      ]
    },
    {
      "cell_type": "code",
      "metadata": {
        "id": "0eiSSDVNxGO9",
        "colab_type": "code",
        "outputId": "5186d6ca-839d-483a-acf8-3054141f68a9",
        "colab": {
          "base_uri": "https://localhost:8080/",
          "height": 34
        }
      },
      "source": [
        "#ESTA PARTE YA CAMBIA A YIK LO CHIDO\n",
        "costos2 = costosf.copy()\n",
        "costosyi=[]\n",
        "for g in range(len(costos2)):\n",
        "    if costos2[g] >= 0:\n",
        "      costos2[g] = (f\"y_{edosf[g]}{desisf[g]}\")\n",
        "      costosyi.append(costos2[g])\n",
        "print(costosyi)"
      ],
      "execution_count": 0,
      "outputs": [
        {
          "output_type": "stream",
          "text": [
            "['y_01', 'y_11', 'y_02', 'y_12']\n"
          ],
          "name": "stdout"
        }
      ]
    },
    {
      "cell_type": "code",
      "metadata": {
        "id": "E1fm-yq1xkAA",
        "colab_type": "code",
        "outputId": "a1c56265-f66c-4811-b246-62f43076fbf7",
        "colab": {
          "base_uri": "https://localhost:8080/",
          "height": 52
        }
      },
      "source": [
        "#PARA LA FUNCIÓN OBJETIVO\n",
        "costos_int_str=costosf.copy()\n",
        "nuevafo=[] #aquí se v a guardar la variabes y*costo como una cadena\n",
        "for pr in range(len(costos2)):\n",
        "  paimpr=(f\"{costos_int_str[pr]}*{costosyi[pr]}\") #hace lo mismo y*costo como\n",
        "  nuevafo.append(paimpr) #lo guarda en cadena\n",
        "sep = '+'\n",
        "#resta = '-'\n",
        "fobj = sep.join(nuevafo)\n",
        "print(\"LA FUNCIÓN OBJETIVO PARA EL PROBLEMA DE PROGRAMACIÓN LINEAL ES: \")\n",
        "print(fobj)"
      ],
      "execution_count": 0,
      "outputs": [
        {
          "output_type": "stream",
          "text": [
            "LA FUNCIÓN OBJETIVO PARA EL PROBLEMA DE PROGRAMACIÓN LINEAL ES: \n",
            "1200.0*y_01+0.0*y_11+1200.0*y_02+0.0*y_12\n"
          ],
          "name": "stdout"
        }
      ]
    },
    {
      "cell_type": "code",
      "metadata": {
        "id": "dUinaWN6yJvQ",
        "colab_type": "code",
        "outputId": "1a979402-ac08-475c-d4cc-a434ef884af5",
        "colab": {
          "base_uri": "https://localhost:8080/",
          "height": 52
        }
      },
      "source": [
        "#print(costosyi) # ESTA PRIMER RESTRICCIÓN NO CAMBIA DEPENDE DE LAS VARIABLES DE LOS COSTOS\n",
        "print(\"PRIMERA RESTRICCIÓN:\")\n",
        "prestriccion = sep.join(costosyi)\n",
        "primeraresctriccion = (f\"{prestriccion}==1\")\n",
        "print(primeraresctriccion)"
      ],
      "execution_count": 0,
      "outputs": [
        {
          "output_type": "stream",
          "text": [
            "PRIMERA RESTRICCIÓN:\n",
            "y_01+y_11+y_02+y_12==1\n"
          ],
          "name": "stdout"
        }
      ]
    },
    {
      "cell_type": "code",
      "metadata": {
        "id": "G1bSfwldyVy_",
        "colab_type": "code",
        "outputId": "c852b9f3-fe8b-4663-8f3f-8f69f4146258",
        "colab": {
          "base_uri": "https://localhost:8080/",
          "height": 52
        }
      },
      "source": [
        "#GENERANDO LAS DEMAS RESTRICCIÓNES SABIENDO QUE ES N-1 (N ES ESTADOS)\n",
        "primeraparteyi = dict()\n",
        "segundaparteyi = dict() \n",
        "laresjunta = dict()\n",
        "sumrjunta = dict()\n",
        "pl_lista = dict()\n",
        "print(\"LAS SIGUIENTES RESTRICCIONES CORRESPONEN A SU RESPECTIVO ESTADO - 1\")\n",
        "for p in range(0,num_estadosf-1):\n",
        "  primeraparteyi['su'+str(p)]= []\n",
        "  segundaparteyi['supsp'+str(p)]= []\n",
        "  #laresjunta['laresumando'+str(p)]\n",
        "  #sumrjunta['sumrsumando'+str(p)]\n",
        "  #pl_lista['plsumando'+str(p)]\n",
        "  for rta in range(len(costos2)): #restriva2\n",
        "    if edosf[rta] == p:\n",
        "      reccs = (f\"y{edosf[rta]}{desisf[rta]}\") #acomodar restriccions2 --> rccss\n",
        "      primeraparteyi['su'+str(p)].append(reccs) \n",
        "  #print(primeraparteyi['su'+str(p)]) #funciona\n",
        "#print(primeraparteyi['su1']) \n",
        "  for rtasg in range(len(costos2)): #restrivaseg2\n",
        "    for rtasgres in range(0,num_estadosf-1): #rest2\n",
        "      if edosf[rtasgres] == p:\n",
        "        rccssp2=(f\"{matriz_prob_por_decisf[rtasg,p]}*{costosyi[rtasg]}\")  #sp2 ----> rccssp2\n",
        "        segundaparteyi['supsp'+str(p)].append(rccssp2) #segundaparte2 ----> supsp(p)\n",
        "  #print(segundaparteyi['supsp'+str(p)]) #funciona\n",
        "  #print(su(p))\n",
        "  #print(supsp(p))\n",
        "  laresjunta['laresumando'+str(p)] = sep.join(primeraparteyi['su'+str(p)]) #cambiar larespr2------->lrps \n",
        "  sumrjunta['sumrsumando'+str(p)] = sep.join(segundaparteyi['supsp'+str(p)]) #cambiar \n",
        "  pl_lista['plsumando'+str(p)]=(f\"{laresjunta['laresumando'+str(p)]}-({sumrjunta['sumrsumando'+str(p)]})==0\")\n",
        "  #print(\"VAMOS A VER LAS NUEVAS RESTRICCIONES\")\n",
        "  print(pl_lista['plsumando'+str(p)])\n",
        "#SI QUIERO IMPRIMIR LAS 3 HARÉ OTRO FOR DE 0 A NUM_ESDADOS-1\n",
        "#print(pl_lista['plsumando2']) #LA CLAVE PARA LLAMAR CUALQUIER RESTRICCIÓN YA HECHA pl_lista['plsumando2']"
      ],
      "execution_count": 0,
      "outputs": [
        {
          "output_type": "stream",
          "text": [
            "LAS SIGUIENTES RESTRICCIONES CORRESPONEN A SU RESPECTIVO ESTADO - 1\n",
            "y01+y02-(0.4*y_01+0.6*y_11+0.6*y_02+0.5*y_12)==0\n"
          ],
          "name": "stdout"
        }
      ]
    },
    {
      "cell_type": "code",
      "metadata": {
        "id": "wfA0w54fy3l-",
        "colab_type": "code",
        "outputId": "3407fe64-afd2-448e-f93c-d1966cccb587",
        "colab": {
          "base_uri": "https://localhost:8080/",
          "height": 52
        }
      },
      "source": [
        "#ESTO DEBE DE ESTAR SIEMPRE AL ULTIMO ES COMO LA ULTIMA RESTRICCIÓN DONDE LAS YIK SON >= 0 PERO NO SE PONEN EN EL PROBLEMA PARA RESOLVER SOLO PARA VISUALIZACIÓN\n",
        "print(\"LAS VARIABLES DEBEN SER: \")\n",
        "sepc = ','\n",
        "ur = sepc.join(costosyi)\n",
        "urv = (f\"{ur} >= 0\")\n",
        "print(urv)"
      ],
      "execution_count": 0,
      "outputs": [
        {
          "output_type": "stream",
          "text": [
            "LAS VARIABLES DEBEN SER: \n",
            "y_01,y_11,y_02,y_12 >= 0\n"
          ],
          "name": "stdout"
        }
      ]
    },
    {
      "cell_type": "code",
      "metadata": {
        "id": "azfm1vEczBP_",
        "colab_type": "code",
        "outputId": "e4334886-caed-4252-d3ea-20308f8a2832",
        "colab": {
          "base_uri": "https://localhost:8080/",
          "height": 138
        }
      },
      "source": [
        "#RECORDANDO EL PROBLEMA PARA PROGRAMACIÓN LINEAL\n",
        "print(\"RECORDANDO EL PROBLEMA\")\n",
        "print(\"FUNCIÓN OBJETIVO: \")\n",
        "print(fobj) \n",
        "print(\"SUJETO A: \")\n",
        "print(primeraresctriccion)\n",
        "for p in range(0,num_estadosf-1):\n",
        "  print(pl_lista['plsumando'+str(p)])\n",
        "print(urv)"
      ],
      "execution_count": 0,
      "outputs": [
        {
          "output_type": "stream",
          "text": [
            "RECORDANDO EL PROBLEMA\n",
            "FUNCIÓN OBJETIVO: \n",
            "1200.0*y_01+0.0*y_11+1200.0*y_02+0.0*y_12\n",
            "SUJETO A: \n",
            "y_01+y_11+y_02+y_12==1\n",
            "y01+y02-(0.4*y_01+0.6*y_11+0.6*y_02+0.5*y_12)==0\n",
            "y_01,y_11,y_02,y_12 >= 0\n"
          ],
          "name": "stdout"
        }
      ]
    },
    {
      "cell_type": "code",
      "metadata": {
        "id": "rhCuPXP4zVWy",
        "colab_type": "code",
        "outputId": "f9a55a98-5866-4499-80af-0d06bd8f4b00",
        "colab": {
          "base_uri": "https://localhost:8080/",
          "height": 381
        }
      },
      "source": [
        "#GENERANDO EL MODELO Y RESOLVIENDO\n",
        "plineal= LpProblem(\"PROGRAMACIÓN_LINEAL\", LpMinimize)\n",
        "variablesyi = [str(edosf[i])+str(desisf[i]) for i in range(0,iteracionf)] #definiendo variables\n",
        "\n",
        "variablesenteras = LpVariable.matrix(\"y\", variablesyi, lowBound= 0 ) #otra vez trabajando cada variable, esta parte es importante para hacer operación\n",
        "operacionvariables = np.array(variablesenteras)\n",
        "\n",
        "funcionobjetivo = lpSum(operacionvariables*costosf) #suma los costos con las variables para la fnción objetivo\n",
        "\n",
        "plineal +=  funcionobjetivo #operación con función objetivo\n",
        "\n",
        "plineal += lpSum(operacionvariables) == 1 #trae la primera restricción\n",
        "#Para las demas restricciones N-1 donde N son los estados\n",
        "for p in range(0,num_estadosf-1):\n",
        "  primeraparteyi['su'+str(p)]= []\n",
        "  segundaparteyi['supsp'+str(p)]= []\n",
        "  for rta in range(len(costos2)): \n",
        "    if edosf[rta] == p:\n",
        "      reccs = (operacionvariables[rta])\n",
        "      primeraparteyi['su'+str(p)].append(reccs) #para la primera parte de las yik\n",
        "  for rtasg in range(len(costos2)): \n",
        "    for rtasgres in range(0,num_estadosf-1): \n",
        "      if edosf[rtasgres] == p:\n",
        "        rccssp2=(matriz_prob_por_decisf[rtasg,p]*operacionvariables[rtasg])  \n",
        "        segundaparteyi['supsp'+str(p)].append(rccssp2) #segunda parte para las yik\n",
        "  plineal += (((lpSum(primeraparteyi['su'+str(p)])))-((lpSum((segundaparteyi['supsp'+str(p)]))))) == 0\n",
        "plineal\n",
        "\n",
        "print(plineal) #imprime el modelado y ya resolviendo la parte de las restricciones de la primera y segunda parte\n",
        "#resolviendo\n",
        "plineal.solve(PULP_CBC_CMD())\n",
        "status =  LpStatus[plineal.status]\n",
        "print(status)\n",
        "\n",
        "#imprimiendo resultados\n",
        "print(\"EL COSTO ES:\", plineal.objective.value())\n",
        "# Decision Variables\n",
        "print(\"EL VALOR PARA CADA VARIABLE ES:\")\n",
        "for va in plineal.variables():\n",
        "    try:\n",
        "        print(va.name,\"=\", va.value())\n",
        "    except:\n",
        "        print(\" \")"
      ],
      "execution_count": 0,
      "outputs": [
        {
          "output_type": "stream",
          "text": [
            "PROGRAMACIÓN_LINEAL:\n",
            "MINIMIZE\n",
            "1200.0*y_01 + 1200.0*y_02 + 0.0\n",
            "SUBJECT TO\n",
            "_C1: y_01 + y_02 + y_11 + y_12 = 1\n",
            "\n",
            "_C2: 0.6 y_01 + 0.4 y_02 - 0.6 y_11 - 0.5 y_12 = 0\n",
            "\n",
            "VARIABLES\n",
            "y_01 Continuous\n",
            "y_02 Continuous\n",
            "y_11 Continuous\n",
            "y_12 Continuous\n",
            "\n",
            "Optimal\n",
            "EL COSTO ES: 545.4545400000001\n",
            "EL VALOR PARA CADA VARIABLE ES:\n",
            "y_01 = 0.45454545\n",
            "y_02 = 0.0\n",
            "y_11 = 0.0\n",
            "y_12 = 0.54545455\n"
          ],
          "name": "stdout"
        }
      ]
    },
    {
      "cell_type": "code",
      "metadata": {
        "id": "oVbdlDym-AEV",
        "colab_type": "code",
        "outputId": "637db536-f3c1-4f8c-9fa0-e16dd54ad563",
        "colab": {
          "base_uri": "https://localhost:8080/",
          "height": 52
        }
      },
      "source": [
        "#EN LO ANTERIOR YA SE VE QUE POLÍTICA TOMAR DONDE HAY VALOR != 0 ES LA DECICIÓN A TOMAR y_ik k---> es la decisión a tomar \n",
        "#Ejemplo: Tiene valor la y_01, y_11,y_22,y_33 entonces la política es (1,1,2,3)\n",
        "#seppoliticas= '\\n'\n",
        "yipol=[] \n",
        "for vp in plineal.variables():\n",
        "    try:\n",
        "      if(vp.value()!=0):\n",
        "        yiop = (vp.name)\n",
        "        yipol.append(yiop) #se guarda las variables de solución que nos interesa en una lista\n",
        "    except:\n",
        "        print(\" \")\n",
        "#print(yipol)\n",
        "\n",
        "cadenapolitica = \"\".join(yipol) #Convierte la lista en cadena\n",
        "#print(cadenapolitica)\n",
        "\n",
        "#rangocadena=len(cadenapolitica) #Posiblemente se ocupe es el tamaño de la cadena\n",
        "#print(rangocadena)\n",
        "\n",
        "print(\"ENTONCES LA POLÍTICA OPTIMA ES: \")\n",
        "politicaoptimapl=[]\n",
        "contador1=3 #El contador empieza desde la posición 3 donde esta la primera K osea la primer decisión\n",
        "for vd11 in range(len(yipol)):\n",
        "  psalida = cadenapolitica[contador1]\n",
        "  politicaoptimapl.append(psalida)\n",
        "  #print(psalida)\n",
        "  contador1 = contador1+4\n",
        "print(politicaoptimapl)"
      ],
      "execution_count": 0,
      "outputs": [
        {
          "output_type": "stream",
          "text": [
            "ENTONCES LA POLÍTICA OPTIMA ES: \n",
            "['1', '2']\n"
          ],
          "name": "stdout"
        }
      ]
    },
    {
      "cell_type": "code",
      "metadata": {
        "id": "mjZheXru_WUn",
        "colab_type": "code",
        "outputId": "64b2190e-02e9-4731-d7b1-e68cf3af5c7e",
        "colab": {
          "base_uri": "https://localhost:8080/",
          "height": 485
        }
      },
      "source": [
        "#MENÚ SI QUIERE MAXIMIZAR O MINIMIZAR\n",
        "print(\"POR FAVOR SELECCIONE UNA OPTCIÓN\")\n",
        "print(\"1 .- MINIMIZAR\")\n",
        "print(\"2 .- MAXIMIZAR\")\n",
        "opcionpl=int(input(\"LA OPCIÓN...: \"))\n",
        "if opcionpl is 1:\n",
        "  \n",
        "  plineal= LpProblem(\"PROGRAMACIÓN_LINEAL\", LpMinimize)\n",
        "  variablesyi = [str(edosf[i])+str(desisf[i]) for i in range(0,iteracionf)] #definiendo variables\n",
        "\n",
        "  variablesenteras = LpVariable.matrix(\"y\", variablesyi, lowBound= 0 ) #otra vez trabajando cada variable, esta parte es importante para hacer operación\n",
        "  operacionvariables = np.array(variablesenteras)\n",
        "\n",
        "  funcionobjetivo = lpSum(operacionvariables*costosf) #suma los costos con las variables para la fnción objetivo\n",
        "\n",
        "  plineal +=  funcionobjetivo #operación con función objetivo\n",
        "\n",
        "  plineal += lpSum(operacionvariables) == 1 #trae la primera restricción\n",
        "  #Para las demas restricciones N-1 donde N son los estados\n",
        "  for p in range(0,num_estadosf-1):\n",
        "    primeraparteyi['su'+str(p)]= []\n",
        "    segundaparteyi['supsp'+str(p)]= []\n",
        "    for rta in range(len(costos2)): \n",
        "      if edosf[rta] == p:\n",
        "        reccs = (operacionvariables[rta])\n",
        "        primeraparteyi['su'+str(p)].append(reccs) #para la primera parte de las yik\n",
        "    for rtasg in range(len(costos2)): \n",
        "      for rtasgres in range(0,num_estadosf-1): \n",
        "        if edosf[rtasgres] == p:\n",
        "          rccssp2=(matriz_prob_por_decisf[rtasg,p]*operacionvariables[rtasg])  \n",
        "          segundaparteyi['supsp'+str(p)].append(rccssp2) #segunda parte para las yik\n",
        "    plineal += (((lpSum(primeraparteyi['su'+str(p)])))-((lpSum((segundaparteyi['supsp'+str(p)]))))) == 0\n",
        "  plineal\n",
        "\n",
        "  print(plineal) #imprime el modelado y ya resolviendo la parte de las restricciones de la primera y segunda parte\n",
        "  #resolviendo\n",
        "  plineal.solve(PULP_CBC_CMD())\n",
        "  status =  LpStatus[plineal.status]\n",
        "  print(status)\n",
        "\n",
        "  #imprimiendo resultados\n",
        "  print(\"EL COSTO ES:\", plineal.objective.value())\n",
        "  # Decision Variables\n",
        "  print(\"EL VALOR PARA CADA VARIABLE ES:\")\n",
        "  for va in plineal.variables():\n",
        "     try:\n",
        "          print(va.name,\"=\", va.value())\n",
        "     except:\n",
        "          print(\" \")\n",
        "  #EN LO ANTERIOR YA SE VE QUE POLÍTICA TOMAR DONDE HAY VALOR != 0 ES LA DECICIÓN A TOMAR y_ik k---> es la decisión a tomar \n",
        "  #Ejemplo: Tiene valor la y_01, y_11,y_22,y_33 entonces la política es (1,1,2,3)\n",
        "  #seppoliticas= '\\n'\n",
        "  yipol=[] \n",
        "  for vp in plineal.variables():\n",
        "      try:\n",
        "        if(vp.value()!=0):\n",
        "          yiop = (vp.name)\n",
        "          yipol.append(yiop) #se guarda las variables de solución que nos interesa en una lista\n",
        "      except:\n",
        "          print(\" \")\n",
        "  #print(yipol)\n",
        "\n",
        "  cadenapolitica = \"\".join(yipol) #Convierte la lista en cadena\n",
        "  #print(cadenapolitica)\n",
        "\n",
        "  #rangocadena=len(cadenapolitica) #Posiblemente se ocupe es el tamaño de la cadena\n",
        "  #print(rangocadena)\n",
        "\n",
        "  print(\"ENTONCES LA POLÍTICA OPTIMA ES: \")\n",
        "  politicaoptimapl=[]\n",
        "  contador1=3 #El contador empieza desde la posición 3 donde esta la primera K osea la primer decisión\n",
        "  for vd11 in range(len(yipol)):\n",
        "   psalida = cadenapolitica[contador1]\n",
        "   politicaoptimapl.append(psalida)\n",
        "   #print(psalida)\n",
        "   contador1 = contador1+4\n",
        "  print(politicaoptimapl)\n",
        "\n",
        "elif opcionpl is 2:\n",
        "\n",
        "  #GENERANDO EL MODELO Y RESOLVIENDO\n",
        "  plineal= LpProblem(\"PROGRAMACIÓN_LINEAL\", LpMaximize)\n",
        "  variablesyi = [str(edosf[i])+str(desisf[i]) for i in range(0,iteracionf)] #definiendo variables\n",
        "\n",
        "  variablesenteras = LpVariable.matrix(\"y\", variablesyi, lowBound= 0 ) #otra vez trabajando cada variable, esta parte es importante para hacer operación\n",
        "  operacionvariables = np.array(variablesenteras)\n",
        "\n",
        "  funcionobjetivo = lpSum(operacionvariables*costosf) #suma los costos con las variables para la fnción objetivo\n",
        "\n",
        "  plineal +=  funcionobjetivo #operación con función objetivo\n",
        "\n",
        "  plineal += lpSum(operacionvariables) == 1 #trae la primera restricción\n",
        "  #Para las demas restricciones N-1 donde N son los estados\n",
        "  for p in range(0,num_estadosf-1):\n",
        "    primeraparteyi['su'+str(p)]= []\n",
        "    segundaparteyi['supsp'+str(p)]= []\n",
        "    for rta in range(len(costos2)): \n",
        "      if edosf[rta] == p:\n",
        "        reccs = (operacionvariables[rta])\n",
        "        primeraparteyi['su'+str(p)].append(reccs) #para la primera parte de las yik\n",
        "    for rtasg in range(len(costos2)): \n",
        "      for rtasgres in range(0,num_estadosf-1): \n",
        "        if edosf[rtasgres] == p:\n",
        "          rccssp2=(matriz_prob_por_decisf[rtasg,p]*operacionvariables[rtasg])  \n",
        "          segundaparteyi['supsp'+str(p)].append(rccssp2) #segunda parte para las yik\n",
        "    plineal += (((lpSum(primeraparteyi['su'+str(p)])))-((lpSum((segundaparteyi['supsp'+str(p)]))))) == 0\n",
        "  plineal\n",
        "\n",
        "  print(plineal) #imprime el modelado y ya resolviendo la parte de las restricciones de la primera y segunda parte\n",
        "  #resolviendo\n",
        "  plineal.solve(PULP_CBC_CMD())\n",
        "  status =  LpStatus[plineal.status]\n",
        "  print(status)\n",
        "\n",
        "  #imprimiendo resultados\n",
        "  print(\"EL COSTO ES:\", plineal.objective.value())\n",
        "  # Decision Variables\n",
        "  print(\"EL VALOR PARA CADA VARIABLE ES:\")\n",
        "  for va in plineal.variables():\n",
        "     try:\n",
        "          print(va.name,\"=\", va.value())\n",
        "     except:\n",
        "          print(\" \")\n",
        "  #EN LO ANTERIOR YA SE VE QUE POLÍTICA TOMAR DONDE HAY VALOR != 0 ES LA DECICIÓN A TOMAR y_ik k---> es la decisión a tomar \n",
        "  #Ejemplo: Tiene valor la y_01, y_11,y_22,y_33 entonces la política es (1,1,2,3)\n",
        "  #seppoliticas= '\\n'\n",
        "  yipol=[] \n",
        "  for vp in plineal.variables():\n",
        "      try:\n",
        "        if(vp.value()!=0):\n",
        "          yiop = (vp.name)\n",
        "          yipol.append(yiop) #se guarda las variables de solución que nos interesa en una lista\n",
        "      except:\n",
        "          print(\" \")\n",
        "  #print(yipol)\n",
        "\n",
        "  cadenapolitica = \"\".join(yipol) #Convierte la lista en cadena\n",
        "  #print(cadenapolitica)\n",
        "\n",
        "  #rangocadena=len(cadenapolitica) #Posiblemente se ocupe es el tamaño de la cadena\n",
        "  #print(rangocadena)\n",
        "\n",
        "  print(\"ENTONCES LA POLÍTICA OPTIMA ES: \")\n",
        "  politicaoptimapl=[]\n",
        "  contador1=3 #El contador empieza desde la posición 3 donde esta la primera K osea la primer decisión\n",
        "  for vd11 in range(len(yipol)):\n",
        "   psalida = cadenapolitica[contador1]\n",
        "   politicaoptimapl.append(psalida)\n",
        "   #print(psalida)\n",
        "   contador1 = contador1+4\n",
        "  print(politicaoptimapl)\n",
        "\n",
        "else:\n",
        "  print(\"NO ESTA EN LAS OPCIONES\")"
      ],
      "execution_count": 0,
      "outputs": [
        {
          "output_type": "stream",
          "text": [
            "POR FAVOR SELECCIONE UNA OPTCIÓN\n",
            "1 .- MINIMIZAR\n",
            "2 .- MAXIMIZAR\n",
            "LA OPCIÓN...: 2\n",
            "PROGRAMACIÓN_LINEAL:\n",
            "MAXIMIZE\n",
            "1200.0*y_01 + 1200.0*y_02 + 0.0\n",
            "SUBJECT TO\n",
            "_C1: y_01 + y_02 + y_11 + y_12 = 1\n",
            "\n",
            "_C2: 0.6 y_01 + 0.4 y_02 - 0.6 y_11 - 0.5 y_12 = 0\n",
            "\n",
            "VARIABLES\n",
            "y_01 Continuous\n",
            "y_02 Continuous\n",
            "y_11 Continuous\n",
            "y_12 Continuous\n",
            "\n",
            "Optimal\n",
            "EL COSTO ES: 720.0\n",
            "EL VALOR PARA CADA VARIABLE ES:\n",
            "y_01 = 0.0\n",
            "y_02 = 0.6\n",
            "y_11 = 0.4\n",
            "y_12 = 0.0\n",
            "ENTONCES LA POLÍTICA OPTIMA ES: \n",
            "['2', '1']\n"
          ],
          "name": "stdout"
        }
      ]
    }
  ]
}